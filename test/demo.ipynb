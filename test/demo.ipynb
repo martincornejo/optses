{
 "cells": [
  {
   "cell_type": "code",
   "execution_count": null,
   "metadata": {},
   "outputs": [],
   "source": [
    "%load_ext autoreload\n",
    "%autoreload 2"
   ]
  },
  {
   "cell_type": "code",
   "execution_count": null,
   "metadata": {},
   "outputs": [],
   "source": [
    "import math\n",
    "import numpy as np\n",
    "import pandas as pd\n",
    "import pyomo.environ as opt"
   ]
  },
  {
   "cell_type": "code",
   "execution_count": null,
   "metadata": {},
   "outputs": [],
   "source": [
    "pd.options.plotting.backend = \"plotly\"\n",
    "template = \"plotly_dark\""
   ]
  },
  {
   "cell_type": "code",
   "execution_count": null,
   "metadata": {},
   "outputs": [],
   "source": [
    "from pyomo.core.base.param import ScalarParam, IndexedParam"
   ]
  },
  {
   "cell_type": "code",
   "execution_count": null,
   "metadata": {},
   "outputs": [],
   "source": [
    "from datetime import datetime, timedelta"
   ]
  },
  {
   "cell_type": "code",
   "execution_count": null,
   "metadata": {},
   "outputs": [],
   "source": [
    "from optses.coupling import Load, GridSlack\n",
    "from optses.storage.ecm import RintModel\n",
    "from optses.storage.converter import QuadraticLossConverter\n",
    "from optses.storage.system import StorageSystem"
   ]
  },
  {
   "cell_type": "markdown",
   "metadata": {},
   "source": [
    "# Model"
   ]
  },
  {
   "cell_type": "code",
   "execution_count": null,
   "metadata": {},
   "outputs": [],
   "source": [
    "profile = pd.read_csv(\"data/power_profile.csv\", date_format=\"%Y-%m-%d %H:%M:%S%z\", index_col=0)\n",
    "profile = profile[\"ac_power_p_poi_sim\"] / 10\n",
    "profile.index = profile.index.tz_localize(None) # drop timezone"
   ]
  },
  {
   "cell_type": "code",
   "execution_count": null,
   "metadata": {},
   "outputs": [],
   "source": [
    "class OptModel:\n",
    "    def __init__(self, profile):\n",
    "        # super().__init__(solver=solver)\n",
    "        self.model = opt.ConcreteModel()\n",
    "        self.solver=opt.SolverFactory(\"ipopt\")\n",
    "        self.build_model(profile)\n",
    "\n",
    "    def build_model(self, profile):\n",
    "        # opt model\n",
    "        model = self.model\n",
    "\n",
    "        # time parameters\n",
    "        dt = (profile.index[1] - profile.index[0]).seconds / 3600\n",
    "        timesteps = len(profile)\n",
    "        model.time = opt.RangeSet(0, timesteps - 1)\n",
    "        model.dt =   opt.Param(initialize=dt)\n",
    "\n",
    "        ## cell\n",
    "        # nominal values\n",
    "        system_energy = 30e3 # 30 kWh\n",
    "        system_power = 30e3 # 15 kW\n",
    "        system_voltage = 400 # V\n",
    "        cell_capacity = 3.0 # Ah\n",
    "        cell_voltage = 3.2 # V\n",
    "\n",
    "        # required cells in parallel / serial\n",
    "        s = math.ceil(system_voltage / cell_voltage)  # parallel cells\n",
    "        p = math.ceil(system_energy / (s * cell_voltage) / cell_capacity)\n",
    "        circuit = dict(p=p, s=s)\n",
    "\n",
    "        ## ocv function \n",
    "        # parameters\n",
    "        ocvp = ( \n",
    "            2.900074932012732,\n",
    "            4.927554283419728,\n",
    "            -29.299690476948975,\n",
    "            95.9761469315301,\n",
    "            -181.93721324798557,\n",
    "            199.7074219198455,\n",
    "            -117.75695789380974,\n",
    "            28.844629090305514,\n",
    "        )\n",
    "\n",
    "        # pyomo constraint function\n",
    "        def ocv(b, t):\n",
    "            return b.ocv[t] == (\n",
    "                ocvp[0]\n",
    "                + ocvp[1] * b.soc[t]\n",
    "                + ocvp[2] * b.soc[t] ** 2\n",
    "                + ocvp[3] * b.soc[t] ** 3\n",
    "                + ocvp[4] * b.soc[t] ** 4\n",
    "                + ocvp[5] * b.soc[t] ** 5\n",
    "                + ocvp[6] * b.soc[t] ** 6\n",
    "                + ocvp[7] * b.soc[t] ** 7\n",
    "            )\n",
    "\n",
    "        cell_model = RintModel(\n",
    "            capacity=3.0, r0=0.045, ocv=ocv, circuit=circuit,\n",
    "            soc_start=0.5, soc_bounds=(0.1, 0.95), i_bounds=(3.0, 6.0)\n",
    "        )\n",
    "\n",
    "        # converter\n",
    "        k = [0.00650714, 0.00192592, 0.03156912,]\n",
    "        converter_model = QuadraticLossConverter(system_power, k[0], k[1], k[2])\n",
    "\n",
    "        # system\n",
    "        sys = StorageSystem(cell_model, converter_model)\n",
    "\n",
    "        for i in (1, 2):\n",
    "            model.add_component(name=f\"system{i}\", val=opt.Block(rule=sys.build))\n",
    "\n",
    "\n",
    "        # \n",
    "        load = Load(profile)\n",
    "        model.setpoint = opt.Block(rule=load.build)\n",
    "\n",
    "        slack = GridSlack(penalty=1e9)\n",
    "        model.slack = opt.Block(rule=slack.build)\n",
    "\n",
    "        @model.Constraint(model.time)\n",
    "        def power_balance(m, t):\n",
    "            return m.system1.power[t] + m.system2.power[t] == m.setpoint.power[t] + m.slack.power[t]\n",
    "        \n",
    "        @model.Objective()\n",
    "        def objective(m):\n",
    "            cell_losses = sum(m.system1.cell_loss_dc[t] + m.system2.cell_loss_dc[t] for t in model.time)\n",
    "            converter_losses = sum(m.system1.converter_loss[t] + m.system2.converter_loss[t] for t in model.time)\n",
    "            return cell_losses + converter_losses + m.slack.penalty_cost\n",
    "    \n",
    "    def update_model(self, val_dict: dict) -> None:\n",
    "        model = self.model\n",
    "\n",
    "        for block_name, block_values in val_dict.items():\n",
    "            block = model.find_component(block_name)\n",
    "\n",
    "            for param_name, val in block_values.items():\n",
    "                param = block.find_component(param_name)\n",
    "                if isinstance(param, ScalarParam):\n",
    "                    param.set_value(val)\n",
    "                elif isinstance(param, IndexedParam):\n",
    "                    for t in model.time:\n",
    "                        param[t].set_value(val.iloc[t])\n",
    "\n",
    "    def recover_results(self):\n",
    "        m = self.model\n",
    "        return pd.DataFrame({\n",
    "            # \"power_cell\": np.array([opt.value(m.system1.cell_power[t]) for t in m.time]),\n",
    "            # \"power_dc\": np.array([opt.value(m.system1.power_dc[t]) for t in m.time]),\n",
    "            # \"power_ac\": np.array([opt.value(m.system1.power[t]) for t in m.time]),\n",
    "            # \"i1\": np.array([opt.value(m.system1.i[t]) for t in m.time]),\n",
    "            # \"ic1\": np.array([opt.value(m.system1.ic[t]) for t in m.time]),\n",
    "            # \"id1\": np.array([opt.value(m.system1.id[t]) for t in m.time]),\n",
    "            # \"idc1\": np.array([opt.value(m.system1.i_dc[t]) for t in m.time]),\n",
    "            \"power1\": np.array([opt.value(m.system1.power[t]) for t in m.time]),\n",
    "            \"power2\": np.array([opt.value(m.system2.power[t]) for t in m.time]),\n",
    "            \"soc1\": np.array([opt.value(m.system1.soc[t]) for t in m.time]),\n",
    "            \"soc2\": np.array([opt.value(m.system2.soc[t]) for t in m.time]),\n",
    "            \"slack\": np.array([opt.value(m.slack.power[t]) for t in m.time]),\n",
    "            \"setpoint\": np.array([opt.value(m.setpoint.power[t]) for t in m.time]),\n",
    "            # \"cell_loss\": np.array([opt.value(m.system1.cell_loss_dc[t]) for t in m.time]),\n",
    "            # \"converter_loss\": np.array([opt.value(m.system1.converter_loss[t]) for t in m.time]),\n",
    "        })\n",
    "\n",
    "    def solve(self, *updates):\n",
    "        if updates:\n",
    "            for update in updates:\n",
    "                self.update_model(update)\n",
    "        \n",
    "        status = self.solver.solve(self.model)\n",
    "\n",
    "        if status[\"Solver\"][0][\"Termination condition\"] == \"optimal\":\n",
    "            return self.recover_results()\n",
    "        else:\n",
    "            return None # TODO: best way to handle?\n",
    "        "
   ]
  },
  {
   "cell_type": "code",
   "execution_count": null,
   "metadata": {},
   "outputs": [],
   "source": [
    "power_split = OptModel(profile.loc[\"2022-07-01 00:00\":\"2022-07-01 23:45\"])\n",
    "# res = power_split.solve()"
   ]
  },
  {
   "cell_type": "code",
   "execution_count": null,
   "metadata": {},
   "outputs": [],
   "source": [
    "params = {\n",
    "    \"system1\": {\n",
    "        \"soc_start\": 0.6,\n",
    "        \"r0\": 0.45\n",
    "    },\n",
    "    \"setpoint\": {\n",
    "        \"power\": profile.loc[\"2022-07-02 00:00\":\"2022-07-02 23:45\"]\n",
    "    }\n",
    "}\n",
    "power_split.update_model(params)\n",
    "res = power_split.solve()"
   ]
  },
  {
   "cell_type": "code",
   "execution_count": null,
   "metadata": {},
   "outputs": [],
   "source": [
    "res = power_split.solve(params)\n",
    "res"
   ]
  },
  {
   "cell_type": "markdown",
   "metadata": {},
   "source": [
    "# MPC"
   ]
  },
  {
   "cell_type": "code",
   "execution_count": null,
   "metadata": {},
   "outputs": [],
   "source": [
    "dt = 900 # seconds = 15 min\n",
    "timestep = timedelta(seconds=dt)\n",
    "horizon = timedelta(days=1, seconds=-dt)\n",
    "\n",
    "timesteps = pd.date_range(\n",
    "    start= \"2022-07-01 00:00:00\", \n",
    "    end  = \"2022-07-03 00:00:00\", \n",
    "    freq = timedelta(days=1)\n",
    ")"
   ]
  },
  {
   "cell_type": "code",
   "execution_count": null,
   "metadata": {},
   "outputs": [],
   "source": [
    "df_mpc = pd.DataFrame()\n",
    "soc1 = 0.5\n",
    "soc2 = 0.6\n",
    "\n",
    "for time in timesteps:\n",
    "    timerange = pd.date_range(start=time, end=time+horizon, freq=timestep)\n",
    "\n",
    "    params = {\n",
    "        \"system1\": {\n",
    "            \"soc_start\": soc1,\n",
    "        },\n",
    "        \"system2\":{\n",
    "            \"soc_start\": soc2,\n",
    "        },\n",
    "        \"setpoint\": {\n",
    "            \"power\": profile.loc[timerange]\n",
    "        },\n",
    "    }\n",
    "    attempts = 0\n",
    "    while attempts < 3:\n",
    "        res = power_split.solve(params)\n",
    "        if res is not None:\n",
    "            break\n",
    "        attempts += 1\n",
    "        print(attempts)\n",
    "\n",
    "    res.index = timerange\n",
    "    df_mpc = pd.concat([df_mpc, res])"
   ]
  },
  {
   "cell_type": "code",
   "execution_count": null,
   "metadata": {},
   "outputs": [],
   "source": [
    "df_mpc[[\"soc1\", \"soc2\"]].plot(template=template)"
   ]
  },
  {
   "cell_type": "code",
   "execution_count": null,
   "metadata": {},
   "outputs": [],
   "source": []
  }
 ],
 "metadata": {
  "kernelspec": {
   "display_name": ".venv",
   "language": "python",
   "name": "python3"
  },
  "language_info": {
   "codemirror_mode": {
    "name": "ipython",
    "version": 3
   },
   "file_extension": ".py",
   "mimetype": "text/x-python",
   "name": "python",
   "nbconvert_exporter": "python",
   "pygments_lexer": "ipython3",
   "version": "3.12.3"
  }
 },
 "nbformat": 4,
 "nbformat_minor": 2
}
